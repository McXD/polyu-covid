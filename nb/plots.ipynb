{
 "cells": [
  {
   "cell_type": "code",
   "execution_count": 1,
   "metadata": {
    "execution": {
     "iopub.execute_input": "2022-02-22T03:49:09.942794Z",
     "iopub.status.busy": "2022-02-22T03:49:09.941988Z",
     "iopub.status.idle": "2022-02-22T03:49:11.236640Z",
     "shell.execute_reply": "2022-02-22T03:49:11.236930Z"
    }
   },
   "outputs": [],
   "source": [
    "import pandas as pd\n",
    "from matplotlib.ticker import MaxNLocator"
   ]
  },
  {
   "cell_type": "markdown",
   "metadata": {},
   "source": [
    "## Data"
   ]
  },
  {
   "cell_type": "code",
   "execution_count": 2,
   "metadata": {
    "execution": {
     "iopub.execute_input": "2022-02-22T03:49:11.242231Z",
     "iopub.status.busy": "2022-02-22T03:49:11.241834Z",
     "iopub.status.idle": "2022-02-22T03:49:11.276383Z",
     "shell.execute_reply": "2022-02-22T03:49:11.276614Z"
    }
   },
   "outputs": [
    {
     "data": {
      "text/html": [
       "<div>\n",
       "<style scoped>\n",
       "    .dataframe tbody tr th:only-of-type {\n",
       "        vertical-align: middle;\n",
       "    }\n",
       "\n",
       "    .dataframe tbody tr th {\n",
       "        vertical-align: top;\n",
       "    }\n",
       "\n",
       "    .dataframe thead th {\n",
       "        text-align: right;\n",
       "    }\n",
       "</style>\n",
       "<table border=\"1\" class=\"dataframe\">\n",
       "  <thead>\n",
       "    <tr style=\"text-align: right;\">\n",
       "      <th></th>\n",
       "      <th>Case Ref.</th>\n",
       "      <th>Staff/Student</th>\n",
       "      <th>Dept</th>\n",
       "      <th>Hall Resident</th>\n",
       "      <th>Reported Status</th>\n",
       "      <th>Date of Last Presence on Campus</th>\n",
       "      <th>Place(s) Visited and Special follow-up actions</th>\n",
       "      <th>Date</th>\n",
       "    </tr>\n",
       "  </thead>\n",
       "  <tbody>\n",
       "    <tr>\n",
       "      <th>0</th>\n",
       "      <td>20220207-1</td>\n",
       "      <td>Student</td>\n",
       "      <td>SN</td>\n",
       "      <td>N</td>\n",
       "      <td>Preliminary Positive</td>\n",
       "      <td>29/1/2022 0:00</td>\n",
       "      <td>VA324</td>\n",
       "      <td>2022-02-07</td>\n",
       "    </tr>\n",
       "    <tr>\n",
       "      <th>1</th>\n",
       "      <td>20220207-2</td>\n",
       "      <td>Student</td>\n",
       "      <td>APSS</td>\n",
       "      <td>N</td>\n",
       "      <td>Confirmed</td>\n",
       "      <td>20/1/2022 0:00</td>\n",
       "      <td>R406</td>\n",
       "      <td>2022-02-07</td>\n",
       "    </tr>\n",
       "    <tr>\n",
       "      <th>2</th>\n",
       "      <td>20220207-3</td>\n",
       "      <td>Student</td>\n",
       "      <td>ABCT</td>\n",
       "      <td>N</td>\n",
       "      <td>Confirmed</td>\n",
       "      <td>25/1/2022 0:00</td>\n",
       "      <td>Y604</td>\n",
       "      <td>2022-02-07</td>\n",
       "    </tr>\n",
       "    <tr>\n",
       "      <th>3</th>\n",
       "      <td>20220207-4</td>\n",
       "      <td>Student</td>\n",
       "      <td>SN</td>\n",
       "      <td>N</td>\n",
       "      <td>Confirmed</td>\n",
       "      <td>27/1/2022 0:00</td>\n",
       "      <td>N.A.</td>\n",
       "      <td>2022-02-07</td>\n",
       "    </tr>\n",
       "    <tr>\n",
       "      <th>4</th>\n",
       "      <td>20220208-1</td>\n",
       "      <td>Student</td>\n",
       "      <td>LSGI</td>\n",
       "      <td>N</td>\n",
       "      <td>Positive (taking rapid antigen test)</td>\n",
       "      <td>7/2/2022 0:00</td>\n",
       "      <td>ZN604</td>\n",
       "      <td>2022-02-08</td>\n",
       "    </tr>\n",
       "    <tr>\n",
       "      <th>...</th>\n",
       "      <td>...</td>\n",
       "      <td>...</td>\n",
       "      <td>...</td>\n",
       "      <td>...</td>\n",
       "      <td>...</td>\n",
       "      <td>...</td>\n",
       "      <td>...</td>\n",
       "      <td>...</td>\n",
       "    </tr>\n",
       "    <tr>\n",
       "      <th>169</th>\n",
       "      <td>20220221-11</td>\n",
       "      <td>Staff</td>\n",
       "      <td>AP</td>\n",
       "      <td>N</td>\n",
       "      <td>Positive (RAT)</td>\n",
       "      <td>16-Feb-22</td>\n",
       "      <td>CD702, FJ702, FJ704</td>\n",
       "      <td>2022-02-21</td>\n",
       "    </tr>\n",
       "    <tr>\n",
       "      <th>170</th>\n",
       "      <td>20220221-12</td>\n",
       "      <td>Student</td>\n",
       "      <td>RS</td>\n",
       "      <td>Y</td>\n",
       "      <td>Positive (RAT)</td>\n",
       "      <td>15-Feb-22</td>\n",
       "      <td>N.A.</td>\n",
       "      <td>2022-02-21</td>\n",
       "    </tr>\n",
       "    <tr>\n",
       "      <th>171</th>\n",
       "      <td>20220221-13</td>\n",
       "      <td>Student</td>\n",
       "      <td>CBS</td>\n",
       "      <td>Y</td>\n",
       "      <td>Positive (RAT)</td>\n",
       "      <td>Not on campus in the past 28 days</td>\n",
       "      <td>N.A.</td>\n",
       "      <td>2022-02-21</td>\n",
       "    </tr>\n",
       "    <tr>\n",
       "      <th>172</th>\n",
       "      <td>20220221-14</td>\n",
       "      <td>Student</td>\n",
       "      <td>ITC</td>\n",
       "      <td>Y</td>\n",
       "      <td>Positive (RAT)</td>\n",
       "      <td>5-Feb-22</td>\n",
       "      <td>N.A.</td>\n",
       "      <td>2022-02-21</td>\n",
       "    </tr>\n",
       "    <tr>\n",
       "      <th>173</th>\n",
       "      <td>20220221-15</td>\n",
       "      <td>Student</td>\n",
       "      <td>COMP</td>\n",
       "      <td>Y</td>\n",
       "      <td>Positive (RAT)</td>\n",
       "      <td>3-Feb-22</td>\n",
       "      <td>VA324</td>\n",
       "      <td>2022-02-21</td>\n",
       "    </tr>\n",
       "  </tbody>\n",
       "</table>\n",
       "<p>174 rows × 8 columns</p>\n",
       "</div>"
      ],
      "text/plain": [
       "       Case Ref. Staff/Student  Dept Hall Resident  \\\n",
       "0     20220207-1       Student    SN             N   \n",
       "1     20220207-2       Student  APSS             N   \n",
       "2     20220207-3       Student  ABCT             N   \n",
       "3     20220207-4       Student    SN             N   \n",
       "4     20220208-1       Student  LSGI             N   \n",
       "..           ...           ...   ...           ...   \n",
       "169  20220221-11         Staff    AP             N   \n",
       "170  20220221-12       Student    RS             Y   \n",
       "171  20220221-13       Student   CBS             Y   \n",
       "172  20220221-14       Student   ITC             Y   \n",
       "173  20220221-15       Student  COMP             Y   \n",
       "\n",
       "                          Reported Status    Date of Last Presence on Campus  \\\n",
       "0                    Preliminary Positive                     29/1/2022 0:00   \n",
       "1                               Confirmed                     20/1/2022 0:00   \n",
       "2                               Confirmed                     25/1/2022 0:00   \n",
       "3                               Confirmed                     27/1/2022 0:00   \n",
       "4    Positive (taking rapid antigen test)                      7/2/2022 0:00   \n",
       "..                                    ...                                ...   \n",
       "169                        Positive (RAT)                          16-Feb-22   \n",
       "170                        Positive (RAT)                          15-Feb-22   \n",
       "171                        Positive (RAT)  Not on campus in the past 28 days   \n",
       "172                        Positive (RAT)                           5-Feb-22   \n",
       "173                        Positive (RAT)                           3-Feb-22   \n",
       "\n",
       "    Place(s) Visited and Special follow-up actions       Date  \n",
       "0                                            VA324 2022-02-07  \n",
       "1                                             R406 2022-02-07  \n",
       "2                                             Y604 2022-02-07  \n",
       "3                                             N.A. 2022-02-07  \n",
       "4                                            ZN604 2022-02-08  \n",
       "..                                             ...        ...  \n",
       "169                            CD702, FJ702, FJ704 2022-02-21  \n",
       "170                                           N.A. 2022-02-21  \n",
       "171                                           N.A. 2022-02-21  \n",
       "172                                           N.A. 2022-02-21  \n",
       "173                                          VA324 2022-02-21  \n",
       "\n",
       "[174 rows x 8 columns]"
      ]
     },
     "execution_count": 2,
     "metadata": {},
     "output_type": "execute_result"
    }
   ],
   "source": [
    "# Read Data\n",
    "df = pd.read_csv('../cases.csv')\n",
    "\n",
    "# Cleansing\n",
    "df['Staff/Student'] = df['Staff/Student'].str.capitalize()\n",
    "df['Dept'] = df['Dept'].replace({r'[^\\x00-\\x7F]+':''}, regex=True)\n",
    "\n",
    "# Add a 'date' column\n",
    "date = pd.to_datetime([d[0] for d in df['Case Ref.'].str.split('-')])\n",
    "df['Date'] = pd.Series(date)\n",
    "\n",
    "df"
   ]
  },
  {
   "cell_type": "markdown",
   "metadata": {},
   "source": [
    "## Utility Functions"
   ]
  },
  {
   "cell_type": "code",
   "execution_count": 3,
   "metadata": {
    "execution": {
     "iopub.execute_input": "2022-02-22T03:49:11.279230Z",
     "iopub.status.busy": "2022-02-22T03:49:11.278838Z",
     "iopub.status.idle": "2022-02-22T03:49:11.280260Z",
     "shell.execute_reply": "2022-02-22T03:49:11.280527Z"
    }
   },
   "outputs": [],
   "source": [
    "# save a pandas plot\n",
    "def save(ax, name: str):\n",
    "    ax.get_figure().savefig('../plots/' + name)"
   ]
  },
  {
   "cell_type": "markdown",
   "metadata": {},
   "source": [
    "## Daily Cases"
   ]
  },
  {
   "cell_type": "code",
   "execution_count": 4,
   "metadata": {
    "execution": {
     "iopub.execute_input": "2022-02-22T03:49:11.285105Z",
     "iopub.status.busy": "2022-02-22T03:49:11.284611Z",
     "iopub.status.idle": "2022-02-22T03:49:11.624611Z",
     "shell.execute_reply": "2022-02-22T03:49:11.624991Z"
    }
   },
   "outputs": [
    {
     "data": {
      "image/png": "[encoded data removed]",
      "text/plain": [
       "<Figure size 432x288 with 1 Axes>"
      ]
     },
     "metadata": {
      "needs_background": "light"
     },
     "output_type": "display_data"
    }
   ],
   "source": [
    "case_by_day = df.groupby(['Date'])['Case Ref.'].count().cumsum()\n",
    "args = {\n",
    "    'title': \"Daily Cases (Aggregated)\",\n",
    "    'kind': 'line',\n",
    "    'style': '.-',\n",
    "    'xlabel': 'Date',\n",
    "    'ylabel': '#Cases',\n",
    "    'color': ['r']\n",
    "}\n",
    "\n",
    "ax_case_by_day = case_by_day.plot(**args)\n",
    "save(ax_case_by_day, \"daily.png\")"
   ]
  },
  {
   "cell_type": "markdown",
   "metadata": {},
   "source": [
    "## Comparison among Groups"
   ]
  },
  {
   "cell_type": "code",
   "execution_count": 5,
   "metadata": {
    "execution": {
     "iopub.execute_input": "2022-02-22T03:49:11.630975Z",
     "iopub.status.busy": "2022-02-22T03:49:11.630555Z",
     "iopub.status.idle": "2022-02-22T03:49:11.745359Z",
     "shell.execute_reply": "2022-02-22T03:49:11.745673Z"
    }
   },
   "outputs": [
    {
     "data": {
      "image/png": "[encoded data removed]",
      "text/plain": [
       "<Figure size 432x288 with 1 Axes>"
      ]
     },
     "metadata": {
      "needs_background": "light"
     },
     "output_type": "display_data"
    }
   ],
   "source": [
    "hall = (df.groupby(['Date', 'Hall Resident'])\n",
    "        .count().unstack()['Case Ref.']\n",
    "        .fillna(0).cumsum()\n",
    "        .plot(kind='line', style='.-', color=['darkorange', 'firebrick'], title='Whether Patients are Hall Resident'))\n",
    "\n",
    "save(hall, 'hall.png')"
   ]
  },
  {
   "cell_type": "code",
   "execution_count": 6,
   "metadata": {
    "execution": {
     "iopub.execute_input": "2022-02-22T03:49:11.771123Z",
     "iopub.status.busy": "2022-02-22T03:49:11.766055Z",
     "iopub.status.idle": "2022-02-22T03:49:11.875986Z",
     "shell.execute_reply": "2022-02-22T03:49:11.876309Z"
    }
   },
   "outputs": [
    {
     "data": {
      "image/png": "[encoded data removed]",
      "text/plain": [
       "<Figure size 432x288 with 1 Axes>"
      ]
     },
     "metadata": {
      "needs_background": "light"
     },
     "output_type": "display_data"
    }
   ],
   "source": [
    "staff = (df.groupby(['Date', 'Staff/Student']).count().unstack()['Case Ref.']\n",
    "         .fillna(0).cumsum()\n",
    "         .plot(kind='line', style='.-', color=['g', 'b'], title='Whether Patients are Staff or Student'))\n",
    "save(staff, 'staff.png')"
   ]
  },
  {
   "cell_type": "code",
   "execution_count": 7,
   "metadata": {
    "execution": {
     "iopub.execute_input": "2022-02-22T03:49:11.895809Z",
     "iopub.status.busy": "2022-02-22T03:49:11.893585Z",
     "iopub.status.idle": "2022-02-22T03:49:12.107214Z",
     "shell.execute_reply": "2022-02-22T03:49:12.107498Z"
    }
   },
   "outputs": [
    {
     "data": {
      "image/png": "[encoded data removed]",
      "text/plain": [
       "<Figure size 432x288 with 1 Axes>"
      ]
     },
     "metadata": {
      "needs_background": "light"
     },
     "output_type": "display_data"
    }
   ],
   "source": [
    "dsc = df[['Dept', 'Staff/Student', 'Case Ref.']]\n",
    "staff = dsc[dsc['Staff/Student'] == 'Staff'][['Dept', 'Case Ref.']].groupby('Dept').count()\n",
    "student = dsc[dsc['Staff/Student'] == 'Student'][['Dept', 'Case Ref.']].groupby('Dept').count()\n",
    "\n",
    "ax = pd.concat([staff, student], axis=1).set_axis(['Staff', 'Student'], axis=1).fillna(0).plot(kind='bar', stacked=True, color = ['g', 'b'], title='Inter-Department')\n",
    "ax.yaxis.set_major_locator(MaxNLocator(integer=True))  # integer y ticks\n",
    "\n",
    "save(ax, 'dept.png')"
   ]
  }
 ],
 "metadata": {
  "interpreter": {
   "hash": "de36a10c7c8d30eb45029e4a1c915783a59b9e994e138dff877910840b716401"
  },
  "kernelspec": {
   "display_name": "Python 3.8.2 ('base')",
   "language": "python",
   "name": "python3"
  },
  "language_info": {
   "codemirror_mode": {
    "name": "ipython",
    "version": 3
   },
   "file_extension": ".py",
   "mimetype": "text/x-python",
   "name": "python",
   "nbconvert_exporter": "python",
   "pygments_lexer": "ipython3",
   "version": "3.8.2"
  }
 },
 "nbformat": 4,
 "nbformat_minor": 2
}

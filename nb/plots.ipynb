{
 "cells": [
  {
   "cell_type": "code",
   "execution_count": 1,
   "metadata": {
    "execution": {
     "iopub.execute_input": "2022-02-25T03:04:02.555040Z",
     "iopub.status.busy": "2022-02-25T03:04:02.553418Z",
     "iopub.status.idle": "2022-02-25T03:04:09.571073Z",
     "shell.execute_reply": "2022-02-25T03:04:09.571794Z"
    }
   },
   "outputs": [],
   "source": [
    "import pandas as pd\n",
    "from matplotlib.ticker import MaxNLocator"
   ]
  },
  {
   "cell_type": "markdown",
   "metadata": {},
   "source": [
    "## Data"
   ]
  },
  {
   "cell_type": "code",
   "execution_count": 2,
   "metadata": {
    "execution": {
     "iopub.execute_input": "2022-02-25T03:04:09.582761Z",
     "iopub.status.busy": "2022-02-25T03:04:09.582261Z",
     "iopub.status.idle": "2022-02-25T03:04:09.630026Z",
     "shell.execute_reply": "2022-02-25T03:04:09.630282Z"
    }
   },
   "outputs": [
    {
     "data": {
      "text/html": [
       "<div>\n",
       "<style scoped>\n",
       "    .dataframe tbody tr th:only-of-type {\n",
       "        vertical-align: middle;\n",
       "    }\n",
       "\n",
       "    .dataframe tbody tr th {\n",
       "        vertical-align: top;\n",
       "    }\n",
       "\n",
       "    .dataframe thead th {\n",
       "        text-align: right;\n",
       "    }\n",
       "</style>\n",
       "<table border=\"1\" class=\"dataframe\">\n",
       "  <thead>\n",
       "    <tr style=\"text-align: right;\">\n",
       "      <th></th>\n",
       "      <th>Case Ref.</th>\n",
       "      <th>Staff/Student</th>\n",
       "      <th>Dept</th>\n",
       "      <th>Hall Resident</th>\n",
       "      <th>Reported Status</th>\n",
       "      <th>Date of Last Presence on Campus</th>\n",
       "      <th>Place(s) Visited and Special follow-up actions</th>\n",
       "      <th>Date</th>\n",
       "    </tr>\n",
       "  </thead>\n",
       "  <tbody>\n",
       "    <tr>\n",
       "      <th>0</th>\n",
       "      <td>20220207-1</td>\n",
       "      <td>Student</td>\n",
       "      <td>SN</td>\n",
       "      <td>N</td>\n",
       "      <td>Preliminary Positive</td>\n",
       "      <td>29/1/2022 0:00</td>\n",
       "      <td>VA324</td>\n",
       "      <td>2022-02-07</td>\n",
       "    </tr>\n",
       "    <tr>\n",
       "      <th>1</th>\n",
       "      <td>20220207-2</td>\n",
       "      <td>Student</td>\n",
       "      <td>APSS</td>\n",
       "      <td>N</td>\n",
       "      <td>Confirmed</td>\n",
       "      <td>20/1/2022 0:00</td>\n",
       "      <td>R406</td>\n",
       "      <td>2022-02-07</td>\n",
       "    </tr>\n",
       "    <tr>\n",
       "      <th>2</th>\n",
       "      <td>20220207-3</td>\n",
       "      <td>Student</td>\n",
       "      <td>ABCT</td>\n",
       "      <td>N</td>\n",
       "      <td>Confirmed</td>\n",
       "      <td>25/1/2022 0:00</td>\n",
       "      <td>Y604</td>\n",
       "      <td>2022-02-07</td>\n",
       "    </tr>\n",
       "    <tr>\n",
       "      <th>3</th>\n",
       "      <td>20220207-4</td>\n",
       "      <td>Student</td>\n",
       "      <td>SN</td>\n",
       "      <td>N</td>\n",
       "      <td>Confirmed</td>\n",
       "      <td>27/1/2022 0:00</td>\n",
       "      <td>N.A.</td>\n",
       "      <td>2022-02-07</td>\n",
       "    </tr>\n",
       "    <tr>\n",
       "      <th>4</th>\n",
       "      <td>20220208-1</td>\n",
       "      <td>Student</td>\n",
       "      <td>LSGI</td>\n",
       "      <td>N</td>\n",
       "      <td>Positive (taking rapid antigen test)</td>\n",
       "      <td>7/2/2022 0:00</td>\n",
       "      <td>ZN604</td>\n",
       "      <td>2022-02-08</td>\n",
       "    </tr>\n",
       "    <tr>\n",
       "      <th>...</th>\n",
       "      <td>...</td>\n",
       "      <td>...</td>\n",
       "      <td>...</td>\n",
       "      <td>...</td>\n",
       "      <td>...</td>\n",
       "      <td>...</td>\n",
       "      <td>...</td>\n",
       "      <td>...</td>\n",
       "    </tr>\n",
       "    <tr>\n",
       "      <th>257</th>\n",
       "      <td>22020224-35</td>\n",
       "      <td>Student</td>\n",
       "      <td>FB</td>\n",
       "      <td>Y</td>\n",
       "      <td>Positive (RAT)</td>\n",
       "      <td>31-Jan-22</td>\n",
       "      <td>N.A.</td>\n",
       "      <td>2202-02-24</td>\n",
       "    </tr>\n",
       "    <tr>\n",
       "      <th>258</th>\n",
       "      <td>22020224-36</td>\n",
       "      <td>Student</td>\n",
       "      <td>ME</td>\n",
       "      <td>Y</td>\n",
       "      <td>Positive (RAT)</td>\n",
       "      <td>Not on campus in the past 28 days</td>\n",
       "      <td>N.A.</td>\n",
       "      <td>2202-02-24</td>\n",
       "    </tr>\n",
       "    <tr>\n",
       "      <th>259</th>\n",
       "      <td>22020224-37</td>\n",
       "      <td>Student</td>\n",
       "      <td>EIE</td>\n",
       "      <td>Y</td>\n",
       "      <td>Positive (RAT)</td>\n",
       "      <td>5-Feb-22</td>\n",
       "      <td>N.A.</td>\n",
       "      <td>2202-02-24</td>\n",
       "    </tr>\n",
       "    <tr>\n",
       "      <th>260</th>\n",
       "      <td>22020224-38</td>\n",
       "      <td>Student</td>\n",
       "      <td>HTI</td>\n",
       "      <td>Y</td>\n",
       "      <td>Positive (RAT)</td>\n",
       "      <td>23-Feb-22</td>\n",
       "      <td>Block Z (3/F and 6/F)</td>\n",
       "      <td>2202-02-24</td>\n",
       "    </tr>\n",
       "    <tr>\n",
       "      <th>261</th>\n",
       "      <td>22020224-39</td>\n",
       "      <td>Student</td>\n",
       "      <td>RS</td>\n",
       "      <td>Y</td>\n",
       "      <td>Positive (RAT)</td>\n",
       "      <td>16-Feb-22</td>\n",
       "      <td>N.A.</td>\n",
       "      <td>2202-02-24</td>\n",
       "    </tr>\n",
       "  </tbody>\n",
       "</table>\n",
       "<p>262 rows × 8 columns</p>\n",
       "</div>"
      ],
      "text/plain": [
       "       Case Ref. Staff/Student  Dept Hall Resident  \\\n",
       "0     20220207-1       Student    SN             N   \n",
       "1     20220207-2       Student  APSS             N   \n",
       "2     20220207-3       Student  ABCT             N   \n",
       "3     20220207-4       Student    SN             N   \n",
       "4     20220208-1       Student  LSGI             N   \n",
       "..           ...           ...   ...           ...   \n",
       "257  22020224-35       Student    FB             Y   \n",
       "258  22020224-36       Student    ME             Y   \n",
       "259  22020224-37       Student   EIE             Y   \n",
       "260  22020224-38       Student   HTI             Y   \n",
       "261  22020224-39       Student    RS             Y   \n",
       "\n",
       "                          Reported Status    Date of Last Presence on Campus  \\\n",
       "0                    Preliminary Positive                     29/1/2022 0:00   \n",
       "1                               Confirmed                     20/1/2022 0:00   \n",
       "2                               Confirmed                     25/1/2022 0:00   \n",
       "3                               Confirmed                     27/1/2022 0:00   \n",
       "4    Positive (taking rapid antigen test)                      7/2/2022 0:00   \n",
       "..                                    ...                                ...   \n",
       "257                        Positive (RAT)                          31-Jan-22   \n",
       "258                        Positive (RAT)  Not on campus in the past 28 days   \n",
       "259                        Positive (RAT)                           5-Feb-22   \n",
       "260                        Positive (RAT)                          23-Feb-22   \n",
       "261                        Positive (RAT)                          16-Feb-22   \n",
       "\n",
       "    Place(s) Visited and Special follow-up actions       Date  \n",
       "0                                            VA324 2022-02-07  \n",
       "1                                             R406 2022-02-07  \n",
       "2                                             Y604 2022-02-07  \n",
       "3                                             N.A. 2022-02-07  \n",
       "4                                            ZN604 2022-02-08  \n",
       "..                                             ...        ...  \n",
       "257                                           N.A. 2202-02-24  \n",
       "258                                           N.A. 2202-02-24  \n",
       "259                                           N.A. 2202-02-24  \n",
       "260                          Block Z (3/F and 6/F) 2202-02-24  \n",
       "261                                           N.A. 2202-02-24  \n",
       "\n",
       "[262 rows x 8 columns]"
      ]
     },
     "execution_count": 2,
     "metadata": {},
     "output_type": "execute_result"
    }
   ],
   "source": [
    "# Read Data\n",
    "df = pd.read_csv('../cases.csv')\n",
    "\n",
    "# Cleansing\n",
    "df['Staff/Student'] = df['Staff/Student'].str.capitalize()\n",
    "df['Dept'] = df['Dept'].replace({r'[^\\x00-\\x7F]+':''}, regex=True)\n",
    "\n",
    "# Add a 'date' column\n",
    "date = pd.to_datetime([d[0] for d in df['Case Ref.'].str.split('-')])\n",
    "df['Date'] = pd.Series(date)\n",
    "\n",
    "df"
   ]
  },
  {
   "cell_type": "markdown",
   "metadata": {},
   "source": [
    "## Utility Functions"
   ]
  },
  {
   "cell_type": "code",
   "execution_count": 3,
   "metadata": {
    "execution": {
     "iopub.execute_input": "2022-02-25T03:04:09.633096Z",
     "iopub.status.busy": "2022-02-25T03:04:09.632708Z",
     "iopub.status.idle": "2022-02-25T03:04:09.634071Z",
     "shell.execute_reply": "2022-02-25T03:04:09.634381Z"
    }
   },
   "outputs": [],
   "source": [
    "# save a pandas plot\n",
    "def save(ax, name: str):\n",
    "    ax.get_figure().savefig('../plots/' + name)"
   ]
  },
  {
   "cell_type": "markdown",
   "metadata": {},
   "source": [
    "## Daily Cases"
   ]
  },
  {
   "cell_type": "code",
   "execution_count": 4,
   "metadata": {
    "execution": {
     "iopub.execute_input": "2022-02-25T03:04:09.638392Z",
     "iopub.status.busy": "2022-02-25T03:04:09.637996Z",
     "iopub.status.idle": "2022-02-25T03:04:10.665335Z",
     "shell.execute_reply": "2022-02-25T03:04:10.665604Z"
    }
   },
   "outputs": [
    {
     "data": {
      "image/png": "[encoded data removed]",
      "text/plain": [
       "<Figure size 432x288 with 1 Axes>"
      ]
     },
     "metadata": {
      "needs_background": "light"
     },
     "output_type": "display_data"
    }
   ],
   "source": [
    "case_by_day = df.groupby(['Date'])['Case Ref.'].count().cumsum()\n",
    "args = {\n",
    "    'title': \"Daily Cases (Aggregated)\",\n",
    "    'kind': 'line',\n",
    "    'style': '.-',\n",
    "    'xlabel': 'Date',\n",
    "    'ylabel': '#Cases',\n",
    "    'color': ['r']\n",
    "}\n",
    "\n",
    "ax_case_by_day = case_by_day.plot(**args)\n",
    "save(ax_case_by_day, \"daily.png\")"
   ]
  },
  {
   "cell_type": "markdown",
   "metadata": {},
   "source": [
    "## Comparison among Groups"
   ]
  },
  {
   "cell_type": "code",
   "execution_count": 5,
   "metadata": {
    "execution": {
     "iopub.execute_input": "2022-02-25T03:04:10.670250Z",
     "iopub.status.busy": "2022-02-25T03:04:10.669716Z",
     "iopub.status.idle": "2022-02-25T03:04:10.793661Z",
     "shell.execute_reply": "2022-02-25T03:04:10.793988Z"
    }
   },
   "outputs": [
    {
     "data": {
      "image/png": "[encoded data removed]",
      "text/plain": [
       "<Figure size 432x288 with 1 Axes>"
      ]
     },
     "metadata": {
      "needs_background": "light"
     },
     "output_type": "display_data"
    }
   ],
   "source": [
    "hall = (df.groupby(['Date', 'Hall Resident'])\n",
    "        .count().unstack()['Case Ref.']\n",
    "        .fillna(0).cumsum()\n",
    "        .plot(kind='line', style='.-', color=['darkorange', 'firebrick'], title='Whether Patients are Hall Resident'))\n",
    "\n",
    "save(hall, 'hall.png')"
   ]
  },
  {
   "cell_type": "code",
   "execution_count": 6,
   "metadata": {
    "execution": {
     "iopub.execute_input": "2022-02-25T03:04:10.800287Z",
     "iopub.status.busy": "2022-02-25T03:04:10.798720Z",
     "iopub.status.idle": "2022-02-25T03:04:10.910570Z",
     "shell.execute_reply": "2022-02-25T03:04:10.910912Z"
    }
   },
   "outputs": [
    {
     "data": {
      "image/png": "[encoded data removed]",
      "text/plain": [
       "<Figure size 432x288 with 1 Axes>"
      ]
     },
     "metadata": {
      "needs_background": "light"
     },
     "output_type": "display_data"
    }
   ],
   "source": [
    "staff = (df.groupby(['Date', 'Staff/Student']).count().unstack()['Case Ref.']\n",
    "         .fillna(0).cumsum()\n",
    "         .plot(kind='line', style='.-', color=['g', 'b'], title='Whether Patients are Staff or Student'))\n",
    "save(staff, 'staff.png')"
   ]
  },
  {
   "cell_type": "code",
   "execution_count": 7,
   "metadata": {
    "execution": {
     "iopub.execute_input": "2022-02-25T03:04:10.942045Z",
     "iopub.status.busy": "2022-02-25T03:04:10.936250Z",
     "iopub.status.idle": "2022-02-25T03:04:11.195260Z",
     "shell.execute_reply": "2022-02-25T03:04:11.195574Z"
    }
   },
   "outputs": [
    {
     "data": {
      "image/png": "[encoded data removed]",
      "text/plain": [
       "<Figure size 432x288 with 1 Axes>"
      ]
     },
     "metadata": {
      "needs_background": "light"
     },
     "output_type": "display_data"
    }
   ],
   "source": [
    "dsc = df[['Dept', 'Staff/Student', 'Case Ref.']]\n",
    "staff = dsc[dsc['Staff/Student'] == 'Staff'][['Dept', 'Case Ref.']].groupby('Dept').count()\n",
    "student = dsc[dsc['Staff/Student'] == 'Student'][['Dept', 'Case Ref.']].groupby('Dept').count()\n",
    "\n",
    "ax = pd.concat([staff, student], axis=1).set_axis(['Staff', 'Student'], axis=1).fillna(0).plot(kind='bar', stacked=True, color = ['g', 'b'], title='Inter-Department')\n",
    "ax.yaxis.set_major_locator(MaxNLocator(integer=True))  # integer y ticks\n",
    "\n",
    "save(ax, 'dept.png')"
   ]
  }
 ],
 "metadata": {
  "interpreter": {
   "hash": "de36a10c7c8d30eb45029e4a1c915783a59b9e994e138dff877910840b716401"
  },
  "kernelspec": {
   "display_name": "Python 3.8.2 ('base')",
   "language": "python",
   "name": "python3"
  },
  "language_info": {
   "codemirror_mode": {
    "name": "ipython",
    "version": 3
   },
   "file_extension": ".py",
   "mimetype": "text/x-python",
   "name": "python",
   "nbconvert_exporter": "python",
   "pygments_lexer": "ipython3",
   "version": "3.8.2"
  }
 },
 "nbformat": 4,
 "nbformat_minor": 2
}
